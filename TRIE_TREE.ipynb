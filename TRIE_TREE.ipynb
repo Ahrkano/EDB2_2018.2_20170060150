{
  "nbformat": 4,
  "nbformat_minor": 0,
  "metadata": {
    "colab": {
      "name": "TRIE TREE.ipynb",
      "version": "0.3.2",
      "provenance": [],
      "collapsed_sections": []
    },
    "kernelspec": {
      "display_name": "Python 3",
      "language": "python",
      "name": "python3"
    }
  },
  "cells": [
    {
      "metadata": {
        "id": "qwGPd94VmqKb",
        "colab_type": "code",
        "colab": {}
      },
      "cell_type": "code",
      "source": [
        "class Node:\n",
        "    def __init__(self):\n",
        "        self.clone = False\n",
        "        self.word = None\n",
        "        self.nodes = {}\n",
        "        \n",
        "    def __print_all__(self):\n",
        "        bank = []\n",
        "        for key, node in self.nodes.items() : \n",
        "            if(node.word is not None):\n",
        "                bank.append(node.word)\n",
        "            bank += node.__print_all__()\n",
        "                \n",
        "        return bank\n",
        "    \n",
        "    def __str__(self):\n",
        "        return self.word\n",
        "    \n",
        "    def __insert__(self, word, char_pos = 0):\n",
        "        # Primeira letra da palavra\n",
        "        char = word[char_pos]\n",
        "        \n",
        "        # Caso a letra atual ainda não exista um novo no será criado\n",
        "        if char not in self.nodes:\n",
        "            self.nodes[char] = Node();\n",
        "        # Caso exista ela será marcada\n",
        "        else:\n",
        "            self.nodes[char].clone = True\n",
        "        # Caso tenha atingido o final da palavra\n",
        "        if(char_pos + 1 == len(word)):\n",
        "            self.nodes[char].word = word\n",
        "        # Caso contrário continua recursivamente\n",
        "        else:\n",
        "            self.nodes[char].__insert__(word, char_pos + 1)\n",
        "            \n",
        "        return True\n",
        "    \n",
        "    def __print_prefix__(self, prefix, char_pos):\n",
        "        bank = []\n",
        "        \n",
        "        for key, node in self.nodes.items() : \n",
        "            # Caso a chave faça parte do prefixo ou a condição\n",
        "            # do prefixo tenha sido satisfeita \n",
        "            if(char_pos >= len(prefix) or key == prefix[char_pos]):\n",
        "                if(node.word is not None):\n",
        "                    bank.append(node.word)\n",
        "                    \n",
        "                if(node.nodes != {}):\n",
        "                    if(char_pos + 1 <= len(prefix)):\n",
        "                        bank += node.__print_prefix__(prefix, char_pos + 1)\n",
        "                    else:\n",
        "                        bank += node.__print_prefix__(prefix, char_pos)\n",
        "    \n",
        "        return bank      \n",
        "    \n",
        "    def __delete__(self, word, char_pos = 0):\n",
        "      char = word[char_pos]\n",
        "      \n",
        "      if(char_pos + 1 < len(word)):\n",
        "        self.nodes[char].__delete__(word, char_pos + 1)\n",
        "      else:\n",
        "        if self.nodes[char].clone == False :\n",
        "          del self.nodes[char]\n",
        "      return True\n",
        "          "
      ],
      "execution_count": 0,
      "outputs": []
    },
    {
      "metadata": {
        "id": "SB2bHl-PmqKp",
        "colab_type": "code",
        "colab": {}
      },
      "cell_type": "code",
      "source": [
        "class Trie:\n",
        "    def __init__(self):\n",
        "        self.root = Node()\n",
        "        \n",
        "    def insert(self, word):\n",
        "        self.root.__insert__(word)\n",
        "        \n",
        "    def print_all(self):\n",
        "        return self.root.__print_all__()\n",
        "\n",
        "    def print_prefix(self, prefix, string_pos = 0):\n",
        "        return self.root.__print_prefix__(prefix, string_pos)\n",
        "      \n",
        "    def delete(self, word):\n",
        "        self.root.__delete__(word)\n",
        " "
      ],
      "execution_count": 0,
      "outputs": []
    },
    {
      "metadata": {
        "id": "aM993H9gmqKx",
        "colab_type": "code",
        "colab": {}
      },
      "cell_type": "code",
      "source": [
        "trie = Trie()\n",
        "trie.insert(\"bulbasaur\")\n",
        "trie.insert(\"ivysaur\")\n",
        "trie.insert(\"venusaur\")\n",
        "trie.insert(\"charmander\")\n",
        "trie.insert(\"charmeleon\")\n",
        "trie.insert(\"charizard\")\n",
        "trie.insert(\"squirtle\")\n",
        "trie.insert(\"wartortle\")\n",
        "trie.insert(\"blatoise\")\n",
        "trie.insert(\"abra\")\n",
        "trie.insert(\"kadabra\")\n",
        "trie.insert(\"alakazam\")\n",
        "trie.insert(\"dratini\")\n",
        "trie.insert(\"dragonair\")\n",
        "trie.insert(\"dragonite\")\n",
        "trie.insert(\"ditto\")"
      ],
      "execution_count": 0,
      "outputs": []
    },
    {
      "metadata": {
        "collapsed": true,
        "id": "FIBf-zwdmqK6",
        "colab_type": "code",
        "outputId": "268519c6-1315-4b0d-cae8-2c4da816ca7a",
        "colab": {
          "base_uri": "https://localhost:8080/",
          "height": 55
        }
      },
      "cell_type": "code",
      "source": [
        "print (trie.print_all())"
      ],
      "execution_count": 20,
      "outputs": [
        {
          "output_type": "stream",
          "text": [
            "['bulbasaur', 'blatoise', 'ivysaur', 'venusaur', 'charmander', 'charmeleon', 'charizard', 'squirtle', 'wartortle', 'abra', 'alakazam', 'kadabra', 'dratini', 'dragonair', 'dragonite', 'ditto']\n"
          ],
          "name": "stdout"
        }
      ]
    },
    {
      "metadata": {
        "collapsed": true,
        "id": "f_xmbDgvmqLE",
        "colab_type": "code",
        "outputId": "7099c77a-a0c4-478c-f9f5-ba02aa4453a8",
        "colab": {
          "base_uri": "https://localhost:8080/",
          "height": 109
        }
      },
      "cell_type": "code",
      "source": [
        "print (trie.print_prefix(\"dr\"))\n",
        "print (trie.print_prefix(\"ch\"))\n",
        "print (trie.print_prefix(\"b\"))\n",
        "print (trie.print_prefix(\"v\"))\n",
        "print (trie.print_prefix(\"k\"))"
      ],
      "execution_count": 21,
      "outputs": [
        {
          "output_type": "stream",
          "text": [
            "['dratini', 'dragonair', 'dragonite']\n",
            "['charmander', 'charmeleon', 'charizard']\n",
            "['bulbasaur', 'blatoise']\n",
            "['venusaur']\n",
            "['kadabra']\n"
          ],
          "name": "stdout"
        }
      ]
    },
    {
      "metadata": {
        "id": "DrvFlxlrkLZF",
        "colab_type": "code",
        "colab": {}
      },
      "cell_type": "code",
      "source": [
        "trie.delete(\"charmander\")"
      ],
      "execution_count": 0,
      "outputs": []
    },
    {
      "metadata": {
        "id": "-NlOLBSbkfeN",
        "colab_type": "code",
        "colab": {
          "base_uri": "https://localhost:8080/",
          "height": 55
        },
        "outputId": "fc13eb78-2e2a-45e8-c678-ccc1cc726290"
      },
      "cell_type": "code",
      "source": [
        "print (trie.print_all())"
      ],
      "execution_count": 23,
      "outputs": [
        {
          "output_type": "stream",
          "text": [
            "['bulbasaur', 'blatoise', 'ivysaur', 'venusaur', 'charmeleon', 'charizard', 'squirtle', 'wartortle', 'abra', 'alakazam', 'kadabra', 'dratini', 'dragonair', 'dragonite', 'ditto']\n"
          ],
          "name": "stdout"
        }
      ]
    }
  ]
}