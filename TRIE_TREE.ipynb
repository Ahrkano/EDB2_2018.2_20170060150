{
  "nbformat": 4,
  "nbformat_minor": 0,
  "metadata": {
    "colab": {
      "name": "TRIE TREE.ipynb",
      "version": "0.3.2",
      "provenance": [],
      "collapsed_sections": [],
      "include_colab_link": true
    },
    "kernelspec": {
      "display_name": "Python 3",
      "language": "python",
      "name": "python3"
    }
  },
  "cells": [
    {
      "cell_type": "markdown",
      "metadata": {
        "id": "view-in-github",
        "colab_type": "text"
      },
      "source": [
        "<a href=\"https://colab.research.google.com/github/Ahrkano/EDB2_2018.2_20170060170/blob/master/TRIE_TREE.ipynb\" target=\"_parent\"><img src=\"https://colab.research.google.com/assets/colab-badge.svg\" alt=\"Open In Colab\"/></a>"
      ]
    },
    {
      "metadata": {
        "id": "qwGPd94VmqKb",
        "colab_type": "code",
        "colab": {}
      },
      "cell_type": "code",
      "source": [
        "class Node:\n",
        "    def __init__(self):\n",
        "        self.clone = False\n",
        "        self.word = None\n",
        "        self.nodes = {}\n",
        "        \n",
        "    def __print_all__(self):\n",
        "        bank = []\n",
        "        for key, node in self.nodes.items() : \n",
        "            if(node.word is not None):\n",
        "                bank.append(node.word)\n",
        "            bank += node.__print_all__()\n",
        "                \n",
        "        return bank\n",
        "    \n",
        "    def __str__(self):\n",
        "        return self.word\n",
        "    \n",
        "    def __insert__(self, word, char_pos = 0):\n",
        "        # Primeira letra da palavra\n",
        "        char = word[char_pos]\n",
        "        \n",
        "        # Caso a letra atual ainda não exista um novo no será criado\n",
        "        if char not in self.nodes:\n",
        "            self.nodes[char] = Node();\n",
        "        # Caso exista ela será marcada\n",
        "        else:\n",
        "            self.nodes[char].clone = True\n",
        "        # Caso tenha atingido o final da palavra\n",
        "        if(char_pos + 1 == len(word)):\n",
        "            self.nodes[char].word = word\n",
        "        # Caso contrário continua recursivamente\n",
        "        else:\n",
        "            self.nodes[char].__insert__(word, char_pos + 1)\n",
        "            \n",
        "        return True\n",
        "    \n",
        "    def __print_prefix__(self, prefix, char_pos):\n",
        "        bank = []\n",
        "        \n",
        "        for key, node in self.nodes.items() : \n",
        "            # Caso a chave faça parte do prefixo ou a condição\n",
        "            # do prefixo tenha sido satisfeita \n",
        "            if(char_pos >= len(prefix) or key == prefix[char_pos]):\n",
        "                if(node.word is not None):\n",
        "                    bank.append(node.word)\n",
        "                    \n",
        "                if(node.nodes != {}):\n",
        "                    if(char_pos + 1 <= len(prefix)):\n",
        "                        bank += node.__print_prefix__(prefix, char_pos + 1)\n",
        "                    else:\n",
        "                        bank += node.__print_prefix__(prefix, char_pos)\n",
        "    \n",
        "        return bank      \n",
        "    \n",
        "    def __delete__(self, word, char_pos = 0):\n",
        "      char = word[char_pos]\n",
        "      \n",
        "      # Caso ainda nao tenha atingido o final da palavra\n",
        "      if(char_pos + 1 < len(word)):\n",
        "        self.nodes[char].__delete__(word, char_pos + 1)\n",
        "      else:\n",
        "        # Se a letra nao faz parte de nenhuma outra palavra\n",
        "        if self.nodes[char].clone == False :\n",
        "          del self.nodes[char]\n",
        "      return True\n",
        "      "
      ],
      "execution_count": 0,
      "outputs": []
    },
    {
      "metadata": {
        "id": "SB2bHl-PmqKp",
        "colab_type": "code",
        "colab": {}
      },
      "cell_type": "code",
      "source": [
        "class Trie:\n",
        "    def __init__(self):\n",
        "        self.root = Node()\n",
        "        \n",
        "    def insert(self, word):\n",
        "        self.root.__insert__(word)\n",
        "        \n",
        "    def print_all(self):\n",
        "        return self.root.__print_all__()\n",
        "\n",
        "    def print_prefix(self, prefix, string_pos = 0):\n",
        "        return self.root.__print_prefix__(prefix, string_pos)\n",
        "      \n",
        "    def delete(self, word):\n",
        "        self.root.__delete__(word)\n",
        "        \n",
        "    def search(self, word):\n",
        "      res = []\n",
        "      res.append(word)\n",
        "      res2 = self.root.__print_prefix__(word, 0)\n",
        "      \n",
        "      if res == res2:\n",
        "        return print (\"Found\")\n",
        "      else:\n",
        "        return print (\"Not Found\")\n",
        "        \n",
        "        \n",
        "      \n",
        " "
      ],
      "execution_count": 0,
      "outputs": []
    },
    {
      "metadata": {
        "id": "aM993H9gmqKx",
        "colab_type": "code",
        "colab": {}
      },
      "cell_type": "code",
      "source": [
        "trie = Trie()\n",
        "trie.insert(\"bulbasaur\")\n",
        "trie.insert(\"ivysaur\")\n",
        "trie.insert(\"venusaur\")\n",
        "trie.insert(\"charmander\")\n",
        "trie.insert(\"charmeleon\")\n",
        "trie.insert(\"charizard\")\n",
        "trie.insert(\"squirtle\")\n",
        "trie.insert(\"wartortle\")\n",
        "trie.insert(\"blastoise\")\n",
        "trie.insert(\"abra\")\n",
        "trie.insert(\"kadabra\")\n",
        "trie.insert(\"alakazam\")\n",
        "trie.insert(\"dratini\")\n",
        "trie.insert(\"dragonair\")\n",
        "trie.insert(\"dragonite\")\n",
        "trie.insert(\"ditto\")"
      ],
      "execution_count": 0,
      "outputs": []
    },
    {
      "metadata": {
        "collapsed": true,
        "id": "FIBf-zwdmqK6",
        "colab_type": "code",
        "outputId": "a65c366a-37da-4879-efae-c2dd667394cd",
        "colab": {
          "base_uri": "https://localhost:8080/",
          "height": 55
        }
      },
      "cell_type": "code",
      "source": [
        "print (trie.print_all())"
      ],
      "execution_count": 0,
      "outputs": [
        {
          "output_type": "stream",
          "text": [
            "['bulbasaur', 'blastoise', 'ivysaur', 'venusaur', 'charmander', 'charmeleon', 'charizard', 'squirtle', 'wartortle', 'abra', 'alakazam', 'kadabra', 'dratini', 'dragonair', 'dragonite', 'ditto']\n"
          ],
          "name": "stdout"
        }
      ]
    },
    {
      "metadata": {
        "collapsed": true,
        "id": "f_xmbDgvmqLE",
        "colab_type": "code",
        "outputId": "69e3db04-4434-4fff-a508-5027032ba901",
        "colab": {
          "base_uri": "https://localhost:8080/",
          "height": 160
        }
      },
      "cell_type": "code",
      "source": [
        "print (trie.print_prefix(\"dr\"))\n",
        "print (trie.print_prefix(\"ch\"))\n",
        "print (trie.print_prefix(\"mew\"))\n",
        "print (trie.print_prefix(\"b\"))\n",
        "print (trie.print_prefix(\"snor\"))\n",
        "print (trie.print_prefix(\"v\"))\n",
        "print (trie.print_prefix(\"k\"))\n",
        "print (trie.print_prefix(\"yp\"))"
      ],
      "execution_count": 0,
      "outputs": [
        {
          "output_type": "stream",
          "text": [
            "['dratini', 'dragonair', 'dragonite']\n",
            "['charmander', 'charmeleon', 'charizard']\n",
            "[]\n",
            "['bulbasaur', 'blastoise']\n",
            "[]\n",
            "['venusaur']\n",
            "['kadabra']\n",
            "[]\n"
          ],
          "name": "stdout"
        }
      ]
    },
    {
      "metadata": {
        "id": "DrvFlxlrkLZF",
        "colab_type": "code",
        "colab": {}
      },
      "cell_type": "code",
      "source": [
        "trie.delete(\"charmander\")"
      ],
      "execution_count": 0,
      "outputs": []
    },
    {
      "metadata": {
        "id": "-NlOLBSbkfeN",
        "colab_type": "code",
        "outputId": "8cd987e9-6db7-403e-9e87-0985fc6f7784",
        "colab": {
          "base_uri": "https://localhost:8080/",
          "height": 35
        }
      },
      "cell_type": "code",
      "source": [
        "print (trie.print_all())"
      ],
      "execution_count": 0,
      "outputs": [
        {
          "output_type": "stream",
          "text": [
            "['bulbasaur', 'blastoise', 'ivysaur', 'venusaur', 'charmeleon', 'charizard', 'squirtle', 'wartortle', 'abra', 'alakazam', 'kadabra', 'dratini', 'dragonair', 'dragonite', 'ditto']\n"
          ],
          "name": "stdout"
        }
      ]
    },
    {
      "metadata": {
        "id": "MM5TLWS6gux7",
        "colab_type": "code",
        "outputId": "3f8b63b3-85ab-4b4f-9841-e6e5b78ff1d5",
        "colab": {
          "base_uri": "https://localhost:8080/",
          "height": 160
        }
      },
      "cell_type": "code",
      "source": [
        "print (trie.search(\"abra\"))\n",
        "print (trie.search(\"pikachu\"))\n",
        "print (trie.search(\"blasto\"))\n",
        "print (trie.search(\"dratini\"))"
      ],
      "execution_count": 0,
      "outputs": [
        {
          "output_type": "stream",
          "text": [
            "Found\n",
            "None\n",
            "Not Found\n",
            "None\n",
            "Not Found\n",
            "None\n",
            "Found\n",
            "None\n"
          ],
          "name": "stdout"
        }
      ]
    },
    {
      "metadata": {
        "id": "FcPhqVvysKRD",
        "colab_type": "code",
        "colab": {}
      },
      "cell_type": "code",
      "source": [
        "teste = Trie()\n",
        "trie.insert()"
      ],
      "execution_count": 0,
      "outputs": []
    }
  ]
}