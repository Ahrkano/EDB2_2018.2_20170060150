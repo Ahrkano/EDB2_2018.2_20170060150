{
  "nbformat": 4,
  "nbformat_minor": 0,
  "metadata": {
    "colab": {
      "name": "AVL TREE.ipynb",
      "version": "0.3.2",
      "provenance": [],
      "collapsed_sections": []
    },
    "kernelspec": {
      "display_name": "Python 3",
      "language": "python",
      "name": "python3"
    }
  },
  "cells": [
    {
      "metadata": {
        "id": "VZx3Xjv6ZANw",
        "colab_type": "code",
        "colab": {}
      },
      "cell_type": "code",
      "source": [
        "class node(object):\n",
        "\n",
        "    def __init__(self, key='$', left=None, right=None):\n",
        "        self.key = key\n",
        "        self.left = None\n",
        "        self.right = None\n",
        "\n",
        "    def __str__(self):\n",
        "        return str(self.key)     "
      ],
      "execution_count": 0,
      "outputs": []
    },
    {
      "metadata": {
        "id": "94pxAy1NZAOS",
        "colab_type": "code",
        "colab": {}
      },
      "cell_type": "code",
      "source": [
        "class avl(object):    \n",
        "\n",
        "    def __init__(self):\n",
        "        self.node = None\n",
        "        self.height = -1\n",
        "        self.balance = 0\n",
        "\n",
        "    \n",
        "    def update_heights(self, recursive=True):\n",
        "    # Altura maxima das subarvores + raiz\n",
        "        if self.node: \n",
        "            if recursive: \n",
        "                if self.node.left: \n",
        "                    self.node.left.update_heights()\n",
        "                if self.node.right:\n",
        "                    self.node.right.update_heights()\n",
        "            \n",
        "            self.height = 1 + max(self.node.left.height, self.node.right.height)\n",
        "        else: \n",
        "            self.height = -1\n",
        "\n",
        "    def update_balances(self, recursive=True):\n",
        "    # Atualiza o fator de balanceamneto : B = altura(subarvore esquerda) - altura(subarvore direita)\n",
        "        if self.node:\n",
        "            if recursive:\n",
        "                if self.node.left:\n",
        "                    self.node.left.update_balances()\n",
        "                if self.node.right:\n",
        "                    self.node.right.update_balances()\n",
        "\n",
        "            self.balance = self.node.left.height - self.node.right.height\n",
        "        else:\n",
        "            self.balance = 0 \n",
        "                         \n",
        "    def rotate_right(self):\n",
        "        # rotaciona à direita\n",
        "        new_root = self.node.left.node\n",
        "        new_left_sub = new_root.right.node\n",
        "        old_root = self.node\n",
        "\n",
        "        self.node = new_root\n",
        "        old_root.left.node = new_left_sub\n",
        "        new_root.right.node = old_root\n",
        "\n",
        "    def rotate_left(self):\n",
        "        # rotaciona à esquerda\n",
        "        new_root = self.node.right.node\n",
        "        new_left_sub = new_root.left.node\n",
        "        old_root = self.node\n",
        "\n",
        "        self.node = new_root\n",
        "        old_root.right.node = new_left_sub\n",
        "        new_root.left.node = old_root\n",
        "    \n",
        "    def balancement(self):\n",
        "\n",
        "        self.update_heights(recursive=False)\n",
        "        self.update_balances(False)\n",
        "        \n",
        "        #   Caso o balanceamento do no for −1, 0, ou +1 não precisa balancear.\n",
        "        while self.balance < -1 or self.balance > 1: \n",
        "            # Caso subarvore esquerda > subarvore direita \n",
        "            if self.balance > 1:\n",
        "                \n",
        "                # Caso rotação dupla à direita\n",
        "                if self.node.left.balance < 0:\n",
        "                    self.node.left.rotate_left()\n",
        "                    self.update_heights()\n",
        "                    self.update_balances()\n",
        "                \n",
        "                # Caso rotação simples à direita\n",
        "                self.rotate_right()\n",
        "                self.update_heights()\n",
        "                self.update_balances()\n",
        "            \n",
        "            # Caso subarvore esquerda < subarvore direita\n",
        "            if self.balance < -1:\n",
        "                \n",
        "                # Caso rotação dupla à esquerda\n",
        "                if self.node.right.balance > 0:\n",
        "                    self.node.right.rotate_right()\n",
        "                    self.update_heights()\n",
        "                    self.update_balances()\n",
        "\n",
        "                # Caso rotação simples à esquerda\n",
        "                self.rotate_left()\n",
        "                self.update_heights()\n",
        "                self.update_balances()\n",
        "                \n",
        "    def insert(self, key):\n",
        "        new_node = node(key)\n",
        "\n",
        "        # Caso arvore vazia\n",
        "        if not self.node:\n",
        "            self.node = new_node\n",
        "            self.node.left = avl()\n",
        "            self.node.right = avl()\n",
        "        # Caso insere na esquerda\n",
        "        elif key < self.node.key:\n",
        "            self.node.left.insert(key)\n",
        "        # Caso insere na direita\n",
        "        elif key > self.node.key:\n",
        "            self.node.right.insert(key)\n",
        "            \n",
        "        # Balanceamento\n",
        "        self.balancement()\n",
        "\n",
        "    def delete(self, key):\n",
        "        if self.node != None:\n",
        "            if self.node.key == key:\n",
        "                # Caso deletar folha\n",
        "                if not self.node.left.node and not self.node.right.node:\n",
        "                    self.node = None\n",
        "                # Caso filho à direita\n",
        "                elif not self.node.left.node:                \n",
        "                    self.node = self.node.right.node\n",
        "                # Caso filho à esquerda\n",
        "                elif not self.node.right.node:\n",
        "                    self.node = self.node.left.node\n",
        "                else:\n",
        "                    # Busca sucessor\n",
        "                    successor = self.node.right.node  \n",
        "                    while successor and successor.left.node:\n",
        "                        successor = successor.left.node\n",
        "\n",
        "                    if successor:\n",
        "                        self.node.key = successor.key\n",
        "\n",
        "                        # Deleta local do successor\n",
        "                        self.node.right.delete(successor.key)\n",
        "\n",
        "            elif key < self.node.key:\n",
        "                self.node.left.delete(key)\n",
        "\n",
        "            elif key > self.node.key:\n",
        "                self.node.right.delete(key)\n",
        "\n",
        "            # Rebalanceamento\n",
        "            self.balancement()\n",
        "\n",
        "    def inorder_traverse(self):\n",
        "\n",
        "        result = []\n",
        "        \n",
        "        if not self.node:\n",
        "            return result\n",
        "        \n",
        "        result.extend(self.node.left.inorder_traverse())\n",
        "        result.append(self.node.key)\n",
        "        result.extend(self.node.right.inorder_traverse())\n",
        "\n",
        "        return result\n",
        "      \n",
        "    def search(self, key):\n",
        "      if self.node != None:\n",
        "        if self.node.key == key:\n",
        "          return print(\"Found\")\n",
        "        elif key < self.node.key:\n",
        "                self.node.left.search(key)\n",
        "        elif key > self.node.key:\n",
        "                self.node.right.delete(key)"
      ],
      "execution_count": 0,
      "outputs": []
    },
    {
      "metadata": {
        "id": "ZCUv0gLFZAOm",
        "colab_type": "code",
        "outputId": "72429198-47f7-4f50-8390-ff41fe51931a",
        "colab": {
          "base_uri": "https://localhost:8080/",
          "height": 53
        }
      },
      "cell_type": "code",
      "source": [
        "tree = avl()\n",
        "data = [1, 2, 3, 4, 5, 6, 7, 8, 9, 10, 11]\n",
        "\n",
        "for key in data:  \n",
        "    tree.insert(key)\n",
        "    \n",
        "print (tree.inorder_traverse())\n",
        "  \n",
        "for key in [4,3]:\n",
        "    tree.delete(key)\n",
        "        \n",
        "print (tree.inorder_traverse())"
      ],
      "execution_count": 0,
      "outputs": [
        {
          "output_type": "stream",
          "text": [
            "[1, 2, 3, 4, 5, 6, 7, 8, 9, 10, 11]\n",
            "[1, 2, 5, 6, 7, 8, 9, 10, 11]\n"
          ],
          "name": "stdout"
        }
      ]
    },
    {
      "metadata": {
        "id": "EMVotAUGpEYt",
        "colab_type": "code",
        "outputId": "84149ace-8395-46ea-8e61-6b51fae8be76",
        "colab": {
          "base_uri": "https://localhost:8080/",
          "height": 53
        }
      },
      "cell_type": "code",
      "source": [
        "tree.search(1)\n",
        "tree.search(2)\n",
        "tree.search(3)\n",
        "tree.search(4)"
      ],
      "execution_count": 0,
      "outputs": [
        {
          "output_type": "stream",
          "text": [
            "Found\n",
            "Found\n"
          ],
          "name": "stdout"
        }
      ]
    },
    {
      "metadata": {
        "id": "osvLM0BKqOv8",
        "colab_type": "code",
        "outputId": "0e1bfe9c-6f6c-49c3-f8f7-090dadd0ae65",
        "colab": {
          "base_uri": "https://localhost:8080/",
          "height": 53
        }
      },
      "cell_type": "code",
      "source": [
        "tree2 = avl()\n",
        "data = [14, 17, 11, 7, 53, 4, 13, 12]\n",
        "\n",
        "for key in data:  \n",
        "    tree2.insert(key)\n",
        "    \n",
        "print (tree2.inorder_traverse())\n",
        "  \n",
        "for key in [12]:\n",
        "    tree2.delete(key)\n",
        "        \n",
        "print (tree2.inorder_traverse())"
      ],
      "execution_count": 0,
      "outputs": [
        {
          "output_type": "stream",
          "text": [
            "[4, 7, 11, 12, 13, 14, 17, 53]\n",
            "[4, 7, 11, 13, 14, 17, 53]\n"
          ],
          "name": "stdout"
        }
      ]
    },
    {
      "metadata": {
        "id": "WUbkHV_ErP0Z",
        "colab_type": "code",
        "outputId": "45d9c131-3fc4-48e9-d98b-4eb317a45652",
        "colab": {
          "base_uri": "https://localhost:8080/",
          "height": 35
        }
      },
      "cell_type": "code",
      "source": [
        "tree2.search(1)\n",
        "tree2.search(2)\n",
        "tree2.search(3)\n",
        "tree2.search(4)"
      ],
      "execution_count": 0,
      "outputs": [
        {
          "output_type": "stream",
          "text": [
            "Found\n"
          ],
          "name": "stdout"
        }
      ]
    }
  ]
}