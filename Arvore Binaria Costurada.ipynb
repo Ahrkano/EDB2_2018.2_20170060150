{
  "nbformat": 4,
  "nbformat_minor": 0,
  "metadata": {
    "colab": {
      "name": "Copy of BST_Costura.ipynb",
      "version": "0.3.2",
      "provenance": []
    },
    "kernelspec": {
      "display_name": "Python 3",
      "language": "python",
      "name": "python3"
    }
  },
  "cells": [
    {
      "metadata": {
        "id": "qMFzzO3eYBAO",
        "colab_type": "code",
        "colab": {}
      },
      "cell_type": "code",
      "source": [
        "class TreeNode:\n",
        "    def __init__(self, left=None, right=None, value=None, Lt=None, Rt=None):\n",
        "        self.left     = left\n",
        "        self.right    = right\n",
        "        self.data     = value\n",
        "        self.Lthread  = Lt\n",
        "        self.Rthread  = Rt\n",
        "\n",
        "class Tree:\n",
        "    def __init__(self):\n",
        "        self.root = None\n",
        "        self.header = TreeNode(None,self.root,None,0,1)\n",
        "        self.header.left = self.header\n",
        "        self.nodes = 0\n",
        "        \n",
        "\n",
        "    def addNode(self, node, value):\n",
        "        if(self.root == None):\n",
        "            self.root = TreeNode(self.header,self.header,value,1,1)\n",
        "            \n",
        "        else:\n",
        "            if(value == node.data):\n",
        "                print(\"Valor existente\")\n",
        "                \n",
        "            if(value<node.data):\n",
        "                \n",
        "                if(node.Lthread == 1):\n",
        "                    new_node = TreeNode(node.left,node,value,1,1)\n",
        "                    node.left = new_node\n",
        "                    node.Lthread = 0\n",
        "                    self.nodes += 1\n",
        "                    \n",
        "                else:\n",
        "                    self.addNode(node.left, value);\n",
        "            else:\n",
        "                \n",
        "                if(node.Rthread == 1):\n",
        "                    new_node = TreeNode(node,node.right,value,1,1)\n",
        "                    node.right = new_node\n",
        "                    node.Rthread = 0\n",
        "                    self.nodes += 1\n",
        "                    \n",
        "                else:\n",
        "                    self.addNode(node.right, value)\n",
        "\n",
        "    \n",
        "    def search(self, node, value):\n",
        "        if(value == node.data or node == None):\n",
        "            return node\n",
        "        else:\n",
        "          if(value<node.data):\n",
        "            return self.search(node.left, value)\n",
        "          else:\n",
        "            return self.search(node.right, value)\n",
        "            \n",
        "    def next_node(self,pt1):\n",
        "        pt2 = pt1.right\n",
        "        if (pt1.Rthread == 0):\n",
        "            while(pt2.Lthread == 0):\n",
        "                pt2 = pt2.left\n",
        "        return pt2\n",
        "        \n",
        "    def prev_node(self,pt1):    \n",
        "        pt2 = pt1.left\n",
        "        if (pt1.Lthread == 0):\n",
        "            while(pt2.Rthread == 0):\n",
        "                pt2 = pt2.right\n",
        "        return pt2\n",
        "                \n",
        "    def delNode(self, node, value):\n",
        "        #caso a arvore esteja vazia\n",
        "        if(self.root == None):\n",
        "            print(\"Empty tree\")\n",
        "            \n",
        "        else:\n",
        "            #caso o valor esteja na raiz e a raiz seja o unico elemento da arvore\n",
        "            if (self.root.data == value and (self.root.right == self.root.left) ):\n",
        "                 self.root = None\n",
        "                    \n",
        "            else:\n",
        "                find = self.search(node, value)\n",
        "                if (find == None):\n",
        "                    print(\"Valor nao encontrado\")\n",
        "                    \n",
        "                else:\n",
        "                    #procura o predecessor\n",
        "                    if (find.left):\n",
        "                        temp = self.prev_node(find)\n",
        "                    \n",
        "                        #caso nao possua filhos\n",
        "                        if (temp.Lthread == temp.Rthread):\n",
        "                            temp.left.Rthread = 1\n",
        "                            temp.left.right = find\n",
        "                            find.data = temp.data\n",
        "                            temp = None\n",
        "                        else:\n",
        "                            self.prev_node(temp).right = temp.right\n",
        "                            find.data = temp.data\n",
        "                            #remover temp\n",
        "                            temp = temp.left\n",
        "                            \n",
        "                            \n",
        "                         \n",
        "                    else:\n",
        "                        #nao existe predecessor\n",
        "                        #procura o sucessor\n",
        "                        temp = self.next_node(find)\n",
        "                        \n",
        "                        #caso nao possua filhos\n",
        "                        if (temp.Lthread == temp.Rthread):\n",
        "                            temp.right.Lthread = 1\n",
        "                            temp.right.left = find\n",
        "                            find.data = temp.data\n",
        "                            temp = None\n",
        "                        else:\n",
        "                            self.next_node(temp).left = temp.left\n",
        "                            find.data = temp.data\n",
        "                            #remover temp\n",
        "                            temp = temp.right\n",
        "                        \n",
        "                \n",
        "    def in_order(self, node):\n",
        "        aux = node\n",
        "        while (aux.Lthread != 1) :\n",
        "            aux = aux.left\n",
        "        \n",
        "        stack = []\n",
        "        \n",
        "        while (len(stack) <= self.nodes):\n",
        "            \n",
        "            if(aux.Lthread == 0 and aux.left.data not in stack ):\n",
        "                aux = aux.left\n",
        "            else:\n",
        "                stack.append(aux.data)\n",
        "                aux = aux.right\n",
        "        print(stack)"
      ],
      "execution_count": 0,
      "outputs": []
    },
    {
      "metadata": {
        "id": "P2kJYnXeYBAf",
        "colab_type": "code",
        "colab": {}
      },
      "cell_type": "code",
      "source": [
        "def do_the_magic():\n",
        "    teste = Tree()\n",
        "    teste.addNode(teste.root, 100)\n",
        "    teste.addNode(teste.root, 50)\n",
        "    teste.addNode(teste.root, 150)\n",
        "    teste.addNode(teste.root, 250)\n",
        "    teste.addNode(teste.root, 200)\n",
        "    return teste"
      ],
      "execution_count": 0,
      "outputs": []
    },
    {
      "metadata": {
        "id": "frHdthsQYBAn",
        "colab_type": "code",
        "colab": {}
      },
      "cell_type": "code",
      "source": [
        "teste = do_the_magic()"
      ],
      "execution_count": 0,
      "outputs": []
    },
    {
      "metadata": {
        "id": "mPI4vpdqYBAv",
        "colab_type": "code",
        "outputId": "6013c574-7566-464b-ae5a-3209d15cfb77",
        "colab": {
          "base_uri": "https://localhost:8080/",
          "height": 35
        }
      },
      "cell_type": "code",
      "source": [
        "teste.in_order(teste.root)"
      ],
      "execution_count": 50,
      "outputs": [
        {
          "output_type": "stream",
          "text": [
            "[50, 100, 150, 200, 250]\n"
          ],
          "name": "stdout"
        }
      ]
    },
    {
      "metadata": {
        "id": "LO7u3JSuYBA7",
        "colab_type": "code",
        "colab": {}
      },
      "cell_type": "code",
      "source": [
        "hold = teste.prev_node(teste.root)"
      ],
      "execution_count": 0,
      "outputs": []
    },
    {
      "metadata": {
        "id": "x4t_zs4RYBA_",
        "colab_type": "code",
        "outputId": "44e28dc9-2505-4d80-a511-61449e5e7d8f",
        "colab": {
          "base_uri": "https://localhost:8080/",
          "height": 35
        }
      },
      "cell_type": "code",
      "source": [
        "print(hold.data)"
      ],
      "execution_count": 52,
      "outputs": [
        {
          "output_type": "stream",
          "text": [
            "50\n"
          ],
          "name": "stdout"
        }
      ]
    },
    {
      "metadata": {
        "id": "MTVYTkOaYBBJ",
        "colab_type": "code",
        "colab": {}
      },
      "cell_type": "code",
      "source": [
        "find = teste.search(teste.root,150)"
      ],
      "execution_count": 0,
      "outputs": []
    },
    {
      "metadata": {
        "id": "OiRBf3XhYBBS",
        "colab_type": "code",
        "colab": {
          "base_uri": "https://localhost:8080/",
          "height": 35
        },
        "outputId": "7be0f733-4867-43ae-c4a1-6b26633197c4"
      },
      "cell_type": "code",
      "source": [
        "find.data"
      ],
      "execution_count": 54,
      "outputs": [
        {
          "output_type": "execute_result",
          "data": {
            "text/plain": [
              "150"
            ]
          },
          "metadata": {
            "tags": []
          },
          "execution_count": 54
        }
      ]
    },
    {
      "metadata": {
        "id": "5bgBmwJfPmV3",
        "colab_type": "code",
        "colab": {}
      },
      "cell_type": "code",
      "source": [
        "teste.delNode(teste.root,50)"
      ],
      "execution_count": 0,
      "outputs": []
    },
    {
      "metadata": {
        "id": "v6Zd9cmfP8lo",
        "colab_type": "code",
        "colab": {
          "base_uri": "https://localhost:8080/",
          "height": 35
        },
        "outputId": "0f8b8691-e4fc-4a30-aed8-2b1b066d239d"
      },
      "cell_type": "code",
      "source": [
        "teste.in_order(teste.root)"
      ],
      "execution_count": 56,
      "outputs": [
        {
          "output_type": "stream",
          "text": [
            "[None, 100, 150, 200, 250]\n"
          ],
          "name": "stdout"
        }
      ]
    }
  ]
}